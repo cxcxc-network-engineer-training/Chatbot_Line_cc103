{
 "cells": [
  {
   "cell_type": "code",
   "execution_count": 1,
   "metadata": {},
   "outputs": [],
   "source": [
    "\"\"\"\n",
    "    製作一個客製menu\n",
    "\n",
    "\"\"\"\n",
    "\n",
    "\n",
    "#做一個menu的基本框架\n",
    "\n",
    "menuRawData=\"\"\"\n",
    "{\n",
    "  \"size\": {\n",
    "    \"width\": 2500,\n",
    "    \"height\": 843\n",
    "  },\n",
    "  \"selected\": true,\n",
    "  \"name\": \"自定義菜單-2\",\n",
    "  \"chatBarText\": \"功能選單\",\n",
    "  \"areas\": [\n",
    "    {\n",
    "      \"bounds\": {\n",
    "        \"x\": 66,\n",
    "        \"y\": 155,\n",
    "        \"width\": 510,\n",
    "        \"height\": 510\n",
    "      },\n",
    "      \"action\": {\n",
    "        \"type\": \"postback\",\n",
    "        \"data\": \"type=question&question_type=sa\"\n",
    "      }\n",
    "    },\n",
    "    {\n",
    "      \"bounds\": {\n",
    "        \"x\": 676,\n",
    "        \"y\": 155,\n",
    "        \"width\": 510,\n",
    "        \"height\": 510\n",
    "      },\n",
    "      \"action\": {\n",
    "        \"type\": \"postback\",\n",
    "        \"data\": \"type=question&question_type=develop\"\n",
    "      }\n",
    "    },\n",
    "    {\n",
    "      \"bounds\": {\n",
    "        \"x\": 1296,\n",
    "        \"y\": 155,\n",
    "        \"width\": 510,\n",
    "        \"height\": 510\n",
    "      },\n",
    "      \"action\": {\n",
    "        \"type\": \"postback\",\n",
    "        \"data\": \"type=question&question_type=sysops\"\n",
    "      }\n",
    "    },\n",
    "    {\n",
    "      \"bounds\": {\n",
    "        \"x\": 1906,\n",
    "        \"y\": 155,\n",
    "        \"width\": 510,\n",
    "        \"height\": 510\n",
    "      },\n",
    "      \"action\": {\n",
    "        \"type\":\"message\",\n",
    "        \"text\":\"more\"\n",
    "      }\n",
    "    }   \n",
    "  ]\n",
    "}\n",
    "\"\"\""
   ]
  },
  {
   "cell_type": "code",
   "execution_count": 9,
   "metadata": {},
   "outputs": [
    {
     "name": "stdout",
     "output_type": "stream",
     "text": [
      "richmenu-e8a64f3ef9083f486dc5a27a42f9c856\n",
      "wxmudkHwZq2orcESpk5A26Q1BIgd6yjfTZDadyZsQMoOUfiZ+cfCM5ljkZAtvlslT+fogfhuB9uzXJ/Cf/ZRTWNrys4VSHDZzJY41ZuxtjRnbe7mp5+YDhqbkN93QdNWNjS361ruvUsBvDu4csscjAdB04t89/1O/w1cDnyilFU=\n",
      "c9c6d939d713d8315e5e095f580aecf5\n",
      "U52127a698f582b3a8bfcfe9a7b5cef58\n"
     ]
    }
   ],
   "source": [
    "\"\"\"\n",
    "    user_id：就是姓名\n",
    "    access_token：就像是ssh的私鑰\n",
    "    secret_key：就是身份證字號，證明是line本人\n",
    "\n",
    "\"\"\"\n",
    "\n",
    "#擷取檔案內的變數，下面會使用\n",
    "\n",
    "import json\n",
    "secretFileContentJson=json.load(open(\"./secret_key\",'r'))\n",
    "menu_id = secretFileContentJson.get(\"rich_menu_id\")\n",
    "access_token = secretFileContentJson.get(\"channel_access_token\")\n",
    "sercret_key = secretFileContentJson.get(\"secret_key\")\n",
    "user_id = secretFileContentJson.get(\"self_user_id\")\n",
    "#印出來測試使用\n",
    "# print(menu_id)\n",
    "# print(access_token)\n",
    "# print(sercret_key)\n",
    "# print(user_id)"
   ]
  },
  {
   "cell_type": "code",
   "execution_count": 3,
   "metadata": {},
   "outputs": [
    {
     "name": "stdout",
     "output_type": "stream",
     "text": [
      "<Response [200]>\n",
      "{\"richMenuId\":\"richmenu-e8a64f3ef9083f486dc5a27a42f9c856\"}\n"
     ]
    }
   ],
   "source": [
    "\"\"\"\n",
    "    將上面做好的menu框架post給line\n",
    "    line會製作一個menu_id回傳過來\n",
    "    之後就都是靠menu_id來連動menu\n",
    "    一個bot最多一千個menu\n",
    "\n",
    "\"\"\"\n",
    "\n",
    "\n",
    "#使用requests來傳送封包\n",
    "\n",
    "import requests\n",
    "\n",
    "#讀上面的menu框架\n",
    "menuJson=json.loads(menuRawData)\n",
    "\n",
    "#line的位置\n",
    "createMenuEndpoint = 'https://api.line.me/v2/bot/richmenu'\n",
    "#http的header靠Authorization來辨識你是誰\n",
    "createMenuRequestHeader={'Content-Type':'application/json','Authorization':'Bearer %s' % access_token }\n",
    "#使用post的方式新增menu進line，會回傳一個menu_id\n",
    "lineCreateMenuResponse = requests.post(createMenuEndpoint,headers=createMenuRequestHeader,data=json.dumps(menuJson))\n",
    "\n",
    "#看是否正確回覆\n",
    "print(lineCreateMenuResponse)\n",
    "#取出menu_id\n",
    "print(lineCreateMenuResponse.text)\n",
    "\n",
    "#要將印出來的richMenuId的值回填到secret_key檔案中的 rich_menu_id\n",
    "#存檔後要再執行上一個cell\n",
    "\n"
   ]
  },
  {
   "cell_type": "code",
   "execution_count": 5,
   "metadata": {
    "scrolled": true
   },
   "outputs": [
    {
     "name": "stdout",
     "output_type": "stream",
     "text": [
      "richmenu-e8a64f3ef9083f486dc5a27a42f9c856\n",
      "https://api.line.me/v2/bot/richmenu/richmenu-e8a64f3ef9083f486dc5a27a42f9c856/content\n",
      "<Response [200]>\n",
      "{}\n"
     ]
    }
   ],
   "source": [
    "'''\n",
    "    得到menu_id後\n",
    "    再對menu進行更多的設定\n",
    "\n",
    "'''\n",
    "import requests\n",
    "\n",
    "# 從secret_key取得菜單Id \n",
    "uploadRichMenuId=secretFileContentJson.get(\"rich_menu_id\")\n",
    "print(uploadRichMenuId)\n",
    "\n",
    "# 設定Line的遠端位置\n",
    "uploadMenuEndpoint='https://api.line.me/v2/bot/richmenu/%s/content' % uploadRichMenuId\n",
    "print(uploadMenuEndpoint)\n",
    "\n",
    "# 設定消息的基本安全憑證\n",
    "uploadMenuRequestHeader={'Content-Type':'image/jpeg','Authorization':'Bearer %s' % secretFileContentJson[\"channel_access_token\"]}\n",
    "\n",
    "# 上傳照片，這個照片檔要特別注意檔案格式，要是2500X843跟上面製作的rich_menu格式相符\n",
    "uploadImageFile=open(\"./images/menu_2.jpg\",'rb')\n",
    "# 用request傳post http給line對menu_id做設定\n",
    "lineUploadMenuResponse=requests.post(uploadMenuEndpoint,headers=uploadMenuRequestHeader,data=uploadImageFile)\n",
    "\n",
    "# 檢查是否成功\n",
    "print(lineUploadMenuResponse)\n",
    "print(lineUploadMenuResponse.text)"
   ]
  },
  {
   "cell_type": "code",
   "execution_count": 10,
   "metadata": {},
   "outputs": [
    {
     "name": "stdout",
     "output_type": "stream",
     "text": [
      "<Response [200]>\n",
      "{\n",
      "  \"status_describe\": \"success add menu\"\n",
      "}\n",
      "\n"
     ]
    }
   ],
   "source": [
    "\"\"\"\n",
    "\n",
    "    將做好的menu_id跟menu資料\n",
    "    post 到 API server\n",
    "    \n",
    "\"\"\"\n",
    "\n",
    "import requests\n",
    "#做一個將已經做好的menu進資料庫的動作\n",
    "#網址\n",
    "url = \"http://chatbot_api:5000/menu\"\n",
    "#表頭\n",
    "Header={'Content-Type':'application/json'}\n",
    "#傳送的資料，裝menu的格式\n",
    "#menu_id 不能使用變數呼叫 \n",
    "payload = {\n",
    "    \"menu_id\": menu_id,\n",
    "    \"menu_content\": menuRawData\n",
    "}\n",
    "\n",
    "#傳送封包\n",
    "Response=requests.post(url,headers=Header,data=json.dumps(payload))\n",
    "#檢驗\n",
    "print(Response)\n",
    "print(Response.text)\n",
    "\n"
   ]
  },
  {
   "cell_type": "code",
   "execution_count": null,
   "metadata": {},
   "outputs": [],
   "source": [
    "\"\"\"\n",
    "    \n",
    "    查詢line@綁定的menu\n",
    "\n",
    "\"\"\"\n",
    "\n",
    "# 取出用戶id，設定Line的遠端位置\n",
    "user_id = secretFileContentJson.get(\"self_user_id\")\n",
    "userMenuEndpoint='https://api.line.me/v2/bot/user/%s/richmenu' % (user_id)\n",
    "print(userMenuEndpoint)\n",
    "\n",
    "# 設定消息的基本安全憑證\n",
    "userMenuRequestHeader={'Authorization':'Bearer %s' % secretFileContentJson[\"channel_access_token\"]}\n",
    "\n",
    "# 發送消息告知\n",
    "lineUserMenuResponse=requests.get(userMenuEndpoint,headers=userMenuRequestHeader)\n",
    "print(lineUserMenuResponse)\n",
    "print(lineUserMenuResponse.text)"
   ]
  },
  {
   "cell_type": "code",
   "execution_count": null,
   "metadata": {},
   "outputs": [],
   "source": [
    "\"\"\"\n",
    "\n",
    "    刪除綁定在line@身上的menu\n",
    "\n",
    "\"\"\"\n",
    "\n",
    "#刪除原有榜定的menu\n",
    "# 取出用戶id，設定Line的遠端位置\n",
    "userMenuEndpoint='https://api.line.me/v2/bot/user/%s/richmenu' % (secretFileContentJson[\"self_user_id\"])\n",
    "print(userMenuEndpoint)\n",
    "\n",
    "# 設定消息的基本安全憑證\n",
    "userMenuRequestHeader={'Authorization':'Bearer %s' % secretFileContentJson[\"channel_access_token\"]}\n",
    "\n",
    "# 發送消息告知\n",
    "lineUnregisterUserMenuResponse=requests.delete(userMenuEndpoint,headers=userMenuRequestHeader)\n",
    "print(lineUnregisterUserMenuResponse)\n",
    "print(lineUnregisterUserMenuResponse.text)\n"
   ]
  },
  {
   "cell_type": "code",
   "execution_count": null,
   "metadata": {},
   "outputs": [],
   "source": []
  }
 ],
 "metadata": {
  "kernelspec": {
   "display_name": "Python 3",
   "language": "python",
   "name": "python3"
  },
  "language_info": {
   "codemirror_mode": {
    "name": "ipython",
    "version": 3
   },
   "file_extension": ".py",
   "mimetype": "text/x-python",
   "name": "python",
   "nbconvert_exporter": "python",
   "pygments_lexer": "ipython3",
   "version": "3.6.5"
  }
 },
 "nbformat": 4,
 "nbformat_minor": 2
}
