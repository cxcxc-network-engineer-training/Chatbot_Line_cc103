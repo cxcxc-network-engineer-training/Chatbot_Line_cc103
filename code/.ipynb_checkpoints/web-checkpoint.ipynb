{
 "cells": [
  {
   "cell_type": "code",
   "execution_count": 2,
   "metadata": {},
   "outputs": [],
   "source": [
    "from flask import Flask , request ,jsonify  , render_template\n",
    "app = Flask(__name__)\n",
    "import requests\n",
    "import json"
   ]
  },
  {
   "cell_type": "code",
   "execution_count": null,
   "metadata": {},
   "outputs": [],
   "source": [
    "@app.route('/user_back'  , methods=['GET'])\n",
    "def user_get_page():\n",
    "    return render_template('index.html')"
   ]
  },
  {
   "cell_type": "code",
   "execution_count": null,
   "metadata": {},
   "outputs": [],
   "source": [
    "@app.route('/user_back'  , methods=['POST'])\n",
    "def user_post_info():\n",
    "    if 'bot' in request.form:\n",
    "        a = request.form['bot']\n",
    "    else :\n",
    "        a = 'fales'\n",
    "    userdata={\n",
    "        'user_name'    : request.form['name'],\n",
    "        'user_phone'   : request.form['phone'],\n",
    "        'user_email'   : request.form['email'],\n",
    "        'user_context' : request.form['context'],\n",
    "        'user_bool'    : a\n",
    "    }\n",
    "    Endpoint = 'http://chatbot_api:5000/web_user_info'\n",
    "    Header = {'Content-Type': 'application/json'}\n",
    "    Response = requests.post(Endpoint, headers=Header, data=json.dumps(userdata))\n",
    "\n",
    "    return render_template('thank.html')"
   ]
  },
  {
   "cell_type": "code",
   "execution_count": null,
   "metadata": {},
   "outputs": [
    {
     "name": "stderr",
     "output_type": "stream",
     "text": [
      " * Running on http://0.0.0.0:8000/ (Press CTRL+C to quit)\n",
      "192.168.114.1 - - [08/Nov/2018 13:59:14] \"GET / HTTP/1.1\" 200 -\n",
      "192.168.114.1 - - [08/Nov/2018 13:59:15] \"POST / HTTP/1.1\" 200 -\n",
      "192.168.114.1 - - [08/Nov/2018 13:59:40] \"GET / HTTP/1.1\" 200 -\n",
      "192.168.114.1 - - [08/Nov/2018 13:59:40] \"POST / HTTP/1.1\" 200 -\n",
      "192.168.114.1 - - [08/Nov/2018 13:59:48] \"GET / HTTP/1.1\" 200 -\n",
      "192.168.114.1 - - [08/Nov/2018 13:59:49] \"POST / HTTP/1.1\" 200 -\n"
     ]
    }
   ],
   "source": [
    "\n",
    "\n",
    "\n",
    "\n",
    "if __name__=='__main__':\n",
    "\n",
    "    app.run(host='0.0.0.0', port=8000)\n"
   ]
  },
  {
   "cell_type": "code",
   "execution_count": null,
   "metadata": {},
   "outputs": [],
   "source": []
  }
 ],
 "metadata": {
  "kernelspec": {
   "display_name": "Python 3",
   "language": "python",
   "name": "python3"
  },
  "language_info": {
   "codemirror_mode": {
    "name": "ipython",
    "version": 3
   },
   "file_extension": ".py",
   "mimetype": "text/x-python",
   "name": "python",
   "nbconvert_exporter": "python",
   "pygments_lexer": "ipython3",
   "version": "3.6.6"
  }
 },
 "nbformat": 4,
 "nbformat_minor": 2
}
