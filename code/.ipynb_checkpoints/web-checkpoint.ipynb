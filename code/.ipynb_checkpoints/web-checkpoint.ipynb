{
 "cells": [
  {
   "cell_type": "code",
   "execution_count": 1,
   "metadata": {},
   "outputs": [
    {
     "name": "stdout",
     "output_type": "stream",
     "text": [
      "Requirement already satisfied: PyMySQL in /opt/conda/lib/python3.6/site-packages (0.9.2)\n",
      "Requirement already satisfied: cryptography in /opt/conda/lib/python3.6/site-packages (from PyMySQL) (2.2.1)\n",
      "Requirement already satisfied: idna>=2.1 in /opt/conda/lib/python3.6/site-packages (from cryptography->PyMySQL) (2.7)\n",
      "Requirement already satisfied: asn1crypto>=0.21.0 in /opt/conda/lib/python3.6/site-packages (from cryptography->PyMySQL) (0.24.0)\n",
      "Requirement already satisfied: six>=1.4.1 in /opt/conda/lib/python3.6/site-packages (from cryptography->PyMySQL) (1.11.0)\n",
      "Requirement already satisfied: cffi>=1.7 in /opt/conda/lib/python3.6/site-packages (from cryptography->PyMySQL) (1.11.5)\n",
      "Requirement already satisfied: pycparser in /opt/conda/lib/python3.6/site-packages (from cffi>=1.7->cryptography->PyMySQL) (2.18)\n"
     ]
    }
   ],
   "source": [
    " !pip install PyMySQL"
   ]
  },
  {
   "cell_type": "code",
   "execution_count": 2,
   "metadata": {},
   "outputs": [],
   "source": [
    "from flask import Flask , request ,jsonify  , render_template\n",
    "app = Flask(__name__)\n",
    "import requests\n",
    "import json\n",
    "import pymysql"
   ]
  },
  {
   "cell_type": "code",
   "execution_count": 3,
   "metadata": {},
   "outputs": [],
   "source": [
    "@app.route('/user_back'  , methods=['GET'])\n",
    "def user_get_page():\n",
    "    return render_template('index.html')"
   ]
  },
  {
   "cell_type": "code",
   "execution_count": 4,
   "metadata": {},
   "outputs": [],
   "source": [
    "@app.route('/user_back'  , methods=['POST'])\n",
    "def user_post_info():\n",
    "    if 'bot' in request.form:\n",
    "        a = request.form['bot']\n",
    "    else :\n",
    "        a = 'fales'\n",
    "    userdata={\n",
    "        'user_name'    : request.form['name'],\n",
    "        'user_phone'   : request.form['phone'],\n",
    "        'user_email'   : request.form['email'],\n",
    "        'user_context' : request.form['context'],\n",
    "        'user_bool'    : a\n",
    "    }\n",
    "    Endpoint = 'http://chatbot_api:5000/web_user_info'\n",
    "    Header = {'Content-Type': 'application/json'}\n",
    "    Response = requests.post(Endpoint, headers=Header, data=json.dumps(userdata))\n",
    "\n",
    "    return render_template('thank.html')"
   ]
  },
  {
   "cell_type": "code",
   "execution_count": 5,
   "metadata": {},
   "outputs": [],
   "source": [
    "@app.route('/login'  , methods=['GET'])\n",
    "def login():\n",
    "    return render_template('login.html')"
   ]
  },
  {
   "cell_type": "code",
   "execution_count": 6,
   "metadata": {},
   "outputs": [],
   "source": [
    "@app.route('/login'  , methods=['POST'])\n",
    "def page_post():\n",
    "    if request.form['button'] == 'Login':\n",
    "        if 'user' in request.form:\n",
    "            username = request.form['user']\n",
    "            if 'passwd' in request.form:\n",
    "                password = request.form['passwd']\n",
    "            else:\n",
    "                passwd = ''\n",
    "        else :\n",
    "            user = ''\n",
    "\n",
    "        conn = pymysql.connect(host='db', port=3306, user=\"root\", passwd=\"iii\", db='chatbot_db',charset='utf8mb4')\n",
    "        cur = conn.cursor()\n",
    "        log ='SELECT * FROM chatbot_db.user_login WHERE username=\"{}\" and password= \"{}\"'.format(username,password)\n",
    "        cur.execute(log)\n",
    "        data = cur.fetchone()\n",
    "        if data is None:\n",
    "            return render_template('login.html')\n",
    "        else :\n",
    "            tmp = requests.get(\"http://chatbot_api:5000/user_back\")\n",
    "            data = tmp.json()\n",
    "            return render_template('manage.html',data=data)\n",
    "        return render_template('login.html')\n",
    "    if request.form['button'] == 'Delete':\n",
    "        a = []\n",
    "        for i in request.form:\n",
    "            if i.isdigit():\n",
    "                a.append(i)\n",
    "        json_string = json.dumps(a)\n",
    "        Endpoint = 'http://chatbot_api:5000/manager_page_delete'\n",
    "        Header = {'Content-Type': 'application/json'}\n",
    "        Response = requests.post(Endpoint, headers=Header, data=json_string)\n",
    "        tmp = requests.get(\"http://chatbot_api:5000/user_back\")\n",
    "        data = tmp.json()\n",
    "        return render_template('manage.html',data=data)\n",
    "    return render_template('login.html')"
   ]
  },
  {
   "cell_type": "code",
   "execution_count": null,
   "metadata": {
    "scrolled": true
   },
   "outputs": [
    {
     "name": "stderr",
     "output_type": "stream",
     "text": [
      " * Running on http://0.0.0.0:8000/ (Press CTRL+C to quit)\n",
      "192.168.114.1 - - [12/Nov/2018 11:32:36] \"GET /user_back HTTP/1.1\" 200 -\n",
      "192.168.114.1 - - [12/Nov/2018 11:32:40] \"GET /login HTTP/1.1\" 200 -\n",
      "192.168.114.1 - - [12/Nov/2018 11:32:45] \"POST /login HTTP/1.1\" 200 -\n",
      "192.168.114.1 - - [12/Nov/2018 11:32:58] \"POST /login HTTP/1.1\" 200 -\n",
      "192.168.114.1 - - [12/Nov/2018 11:37:18] \"GET /login HTTP/1.1\" 200 -\n",
      "192.168.114.1 - - [12/Nov/2018 11:37:21] \"POST /login HTTP/1.1\" 200 -\n",
      "192.168.114.1 - - [12/Nov/2018 11:37:25] \"POST /login HTTP/1.1\" 200 -\n",
      "192.168.114.1 - - [12/Nov/2018 11:40:10] \"GET /login HTTP/1.1\" 200 -\n",
      "192.168.114.1 - - [12/Nov/2018 11:40:14] \"POST /login HTTP/1.1\" 200 -\n",
      "192.168.114.1 - - [12/Nov/2018 11:40:19] \"POST /login HTTP/1.1\" 200 -\n",
      "192.168.114.1 - - [12/Nov/2018 11:42:37] \"GET /login HTTP/1.1\" 200 -\n",
      "192.168.114.1 - - [12/Nov/2018 11:42:40] \"POST /login HTTP/1.1\" 200 -\n",
      "192.168.114.1 - - [12/Nov/2018 11:42:43] \"POST /login HTTP/1.1\" 200 -\n",
      "192.168.114.1 - - [12/Nov/2018 11:42:58] \"POST /login HTTP/1.1\" 200 -\n",
      "192.168.114.1 - - [12/Nov/2018 11:44:41] \"GET /login HTTP/1.1\" 200 -\n",
      "192.168.114.1 - - [12/Nov/2018 11:44:45] \"POST /login HTTP/1.1\" 200 -\n",
      "192.168.114.1 - - [12/Nov/2018 11:44:48] \"POST /login HTTP/1.1\" 200 -\n"
     ]
    }
   ],
   "source": [
    "if __name__=='__main__':\n",
    "\n",
    "    app.run(host='0.0.0.0', port=8000)\n"
   ]
  }
 ],
 "metadata": {
  "kernelspec": {
   "display_name": "Python 3",
   "language": "python",
   "name": "python3"
  },
  "language_info": {
   "codemirror_mode": {
    "name": "ipython",
    "version": 3
   },
   "file_extension": ".py",
   "mimetype": "text/x-python",
   "name": "python",
   "nbconvert_exporter": "python",
   "pygments_lexer": "ipython3",
   "version": "3.6.5"
  }
 },
 "nbformat": 4,
 "nbformat_minor": 2
}
